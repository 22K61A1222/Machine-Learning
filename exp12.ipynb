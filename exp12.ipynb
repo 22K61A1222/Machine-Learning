{
  "nbformat": 4,
  "nbformat_minor": 0,
  "metadata": {
    "colab": {
      "provenance": []
    },
    "kernelspec": {
      "name": "python3",
      "display_name": "Python 3"
    },
    "language_info": {
      "name": "python"
    }
  },
  "cells": [
    {
      "cell_type": "code",
      "execution_count": null,
      "metadata": {
        "id": "lnkeV1x1KfgO"
      },
      "outputs": [],
      "source": [
        "import pandas as pd\n",
        "import matplotlib.pyplot as plt\n",
        "import seaborn as sns\n",
        "# Load dataset (Heart Disease Dataset from UCI)\n",
        "url = \"https://archive.ics.uci.edu/ml/machine-learning-databases/heartdisease/processed.cleveland.data\"\n",
        "columns = ['age', 'sex', 'cp', 'trestbps', 'chol', 'fbs', 'restecg', 'thalach',\n",
        " 'exang', 'oldpeak', 'slope', 'ca', 'thal', 'target']\n",
        "df = pd.read_csv(url, names=columns, na_values=\"?\")\n",
        "# 1. Basic dataset info (reduced)\n",
        "print(\"Dataset Shape:\", df.shape)\n",
        "print(\"\\nFirst 5 Rows:\\n\", df.head())\n",
        "# 2. Handle missing values\n",
        "df.dropna(inplace=True)\n",
        "# 3. Check class distribution\n",
        "plt.figure(figsize=(5, 3))\n",
        "sns.countplot(x=df['target'], palette=\"viridis\")\n",
        "plt.title(\"Class Distribution\")\n",
        "plt.xlabel(\"Target Class (0: No Disease, 1-4: Disease)\")\n",
        "plt.ylabel(\"Count\")\n",
        "61\n",
        "plt.show()\n",
        "# 4. Show correlation of top features (reduce output)\n",
        "correlation = df.corr()['target'].abs().sort_values(ascending=False)\n",
        "print(\"\\nTop Correlated Features with Target:\\n\", correlation.head(6))\n",
        "# 5. Boxplot of select features (outlier detection)\n",
        "selected_features = ['age', 'trestbps', 'chol', 'thalach', 'oldpeak']\n",
        "plt.figure(figsize=(10, 5))\n",
        "sns.boxplot(data=df[selected_features])\n",
        "plt.xticks(rotation=90)\n",
        "plt.title(\"Boxplot of Selected Features\")\n",
        "plt.show()"
      ]
    }
  ]
}