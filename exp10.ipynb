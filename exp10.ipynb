{
  "nbformat": 4,
  "nbformat_minor": 0,
  "metadata": {
    "colab": {
      "provenance": []
    },
    "kernelspec": {
      "name": "python3",
      "display_name": "Python 3"
    },
    "language_info": {
      "name": "python"
    }
  },
  "cells": [
    {
      "cell_type": "code",
      "source": [
        "from sklearn.feature_extraction.text import CountVectorizer\n",
        "from sklearn.naive_bayes import MultinomialNB\n",
        "from sklearn.model_selection import train_test_split\n",
        "from sklearn.metrics import accuracy_score, precision_recall_fscore_support\n",
        "\n",
        "# 1. Custom dataset\n",
        "documents = [\n",
        "    \"The football match was exciting\",\n",
        "    \"I love watching the game of football\",\n",
        "    \"The latest smartphone has great features\",\n",
        "    \"The new laptop has powerful hardware\",\n",
        "    \"The soccer player scored a brilliant goal\",\n",
        "    \"AI is revolutionizing the tech world\",\n",
        "    \"Football is a popular sport worldwide\",\n",
        "    \"The new phone comes with 5G support\"\n",
        "]\n",
        "\n",
        "# Labels: 0 for 'Sports' and 1 for 'Technology'\n",
        "labels = [0, 0, 1, 1, 0, 1, 0, 1]\n",
        "\n",
        "# 2. Vectorize the text data (Convert text to feature vectors)\n",
        "vectorizer = CountVectorizer()\n",
        "X = vectorizer.fit_transform(documents)\n",
        "\n",
        "# 3. Split the data into training and testing sets (80% train, 20% test)\n",
        "X_train, X_test, y_train, y_test = train_test_split(X, labels, test_size=0.2, random_state=42)\n",
        "\n",
        "# 4. Train the Naive Bayes model\n",
        "nb_classifier = MultinomialNB()\n",
        "nb_classifier.fit(X_train, y_train)\n",
        "\n",
        "# 5. Predict the labels on the test data\n",
        "y_pred = nb_classifier.predict(X_test)\n",
        "\n",
        "# 6. Evaluate the model: Accuracy, Precision, Recall, F1-Score\n",
        "accuracy = accuracy_score(y_test, y_pred)\n",
        "precision, recall, fscore, _ = precision_recall_fscore_support(y_test, y_pred, average='binary')\n",
        "\n",
        "# Displaying the results\n",
        "print(f\"Accuracy: {accuracy:.4f}\")\n",
        "print(f\"Precision: {precision:.4f}\")\n",
        "print(f\"Recall: {recall:.4f}\")\n",
        "print(f\"F1-Score: {fscore:.4f}\")"
      ],
      "metadata": {
        "colab": {
          "base_uri": "https://localhost:8080/"
        },
        "id": "Gtr1m-QLgoWY",
        "outputId": "3edf044f-3257-4b26-8ba5-916d1a555b35"
      },
      "execution_count": null,
      "outputs": [
        {
          "output_type": "stream",
          "name": "stdout",
          "text": [
            "Accuracy: 0.5000\n",
            "Precision: 0.0000\n",
            "Recall: 0.0000\n",
            "F1-Score: 0.0000\n"
          ]
        },
        {
          "output_type": "stream",
          "name": "stderr",
          "text": [
            "/usr/local/lib/python3.11/dist-packages/sklearn/metrics/_classification.py:1565: UndefinedMetricWarning: Precision is ill-defined and being set to 0.0 due to no predicted samples. Use `zero_division` parameter to control this behavior.\n",
            "  _warn_prf(average, modifier, f\"{metric.capitalize()} is\", len(result))\n"
          ]
        }
      ]
    }
  ]
}