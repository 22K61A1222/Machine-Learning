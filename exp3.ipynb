{
  "nbformat": 4,
  "nbformat_minor": 0,
  "metadata": {
    "colab": {
      "provenance": []
    },
    "kernelspec": {
      "name": "python3",
      "display_name": "Python 3"
    },
    "language_info": {
      "name": "python"
    }
  },
  "cells": [
    {
      "cell_type": "code",
      "execution_count": null,
      "metadata": {
        "colab": {
          "base_uri": "https://localhost:8080/"
        },
        "id": "9ePDsnl8RrIR",
        "outputId": "1b4d4364-fec6-484d-8827-ea58c88a755e"
      },
      "outputs": [
        {
          "output_type": "stream",
          "name": "stdout",
          "text": [
            "Decision Tree Structure:\n",
            " |--- Temperature <= 0.50\n",
            "|   |--- class: No\n",
            "|--- Temperature >  0.50\n",
            "|   |--- class: Yes\n",
            "\n",
            "Predicted Class for New Sample: Yes\n"
          ]
        },
        {
          "output_type": "stream",
          "name": "stderr",
          "text": [
            "/usr/local/lib/python3.11/dist-packages/sklearn/utils/validation.py:2739: UserWarning: X does not have valid feature names, but DecisionTreeClassifier was fitted with feature names\n",
            "  warnings.warn(\n"
          ]
        }
      ],
      "source": [
        "import pandas as pd\n",
        "from sklearn.tree import DecisionTreeClassifier, export_text\n",
        "\n",
        "def load_data(filename):\n",
        "    \"\"\"Load dataset from CSV.\"\"\"\n",
        "    return pd.read_csv(filename)\n",
        "\n",
        "def build_decision_tree(data):\n",
        "    X = data.iloc[:, :-1]\n",
        "    y = data.iloc[:, -1]\n",
        "    clf = DecisionTreeClassifier(criterion=\"entropy\")\n",
        "    clf.fit(X, y)\n",
        "\n",
        "    return clf\n",
        "\n",
        "filename = \"decision_tree_data.csv\"\n",
        "data = load_data(filename)\n",
        "\n",
        "model = build_decision_tree(data)\n",
        "\n",
        "\n",
        "tree_rules = export_text(model, feature_names=list(data.columns[:-1]))\n",
        "print(\"Decision Tree Structure:\\n\", tree_rules)\n",
        "\n",
        "new_sample = [[1, 1, 0, 1, 1, 0]]\n",
        "prediction = model.predict(new_sample)\n",
        "print(\"Predicted Class for New Sample:\", prediction[0])"
      ]
    }
  ]
}