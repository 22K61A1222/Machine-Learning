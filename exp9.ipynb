{
  "nbformat": 4,
  "nbformat_minor": 0,
  "metadata": {
    "colab": {
      "provenance": []
    },
    "kernelspec": {
      "name": "python3",
      "display_name": "Python 3"
    },
    "language_info": {
      "name": "python"
    }
  },
  "cells": [
    {
      "cell_type": "code",
      "execution_count": null,
      "metadata": {
        "id": "WW7Ue1nnKMwM"
      },
      "outputs": [],
      "source": [
        "import numpy as np\n",
        "import matplotlib.pyplot as plt\n",
        "# Generate synthetic data (sine wave with noise)\n",
        "np.random.seed(0)\n",
        "X = np.sort(5 * np.random.rand(80, 1), axis=0)\n",
        "y = np.sin(X).ravel() + np.random.rand(80)\n",
        "def locally_weighted_regression(test_point, X, y, tau):\n",
        "\n",
        " m, n = X.shape\n",
        " weights = np.zeros((m, m))\n",
        "48\n",
        "\n",
        " for i in range(m):\n",
        " xi = X[i]\n",
        " weights[i, i] = np.exp(-((test_point - xi) ** 2) / (2 * tau ** 2))\n",
        "\n",
        " theta = np.linalg.pinv(X.T @ (weights @ X)) @ (X.T @ (weights @ y))\n",
        " return test_point * theta\n",
        "# Predict for a set of test points\n",
        "tau = 0.1 # Bandwidth parameter\n",
        "X_test = np.linspace(0, 5, 100)\n",
        "y_pred = [locally_weighted_regression(test_point, X, y, tau) for test_point in X_test]\n",
        "# Plot the data and predictions\n",
        "plt.scatter(X, y, c='r', label='Data points')\n",
        "plt.plot(X_test, y_pred, c='b', label='LWR Predictions')\n",
        "plt.xlabel('X')\n",
        "plt.ylabel('y')\n",
        "plt.legend()\n",
        "plt.show()\n"
      ]
    }
  ]
}