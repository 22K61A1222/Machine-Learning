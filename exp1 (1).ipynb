{
  "nbformat": 4,
  "nbformat_minor": 0,
  "metadata": {
    "colab": {
      "provenance": []
    },
    "kernelspec": {
      "name": "python3",
      "display_name": "Python 3"
    },
    "language_info": {
      "name": "python"
    }
  },
  "cells": [
    {
      "cell_type": "code",
      "execution_count": null,
      "metadata": {
        "colab": {
          "base_uri": "https://localhost:8080/"
        },
        "id": "L0oJCZEWkQCn",
        "outputId": "0c2ecd64-2e94-4263-ab71-ecf1f6572501"
      },
      "outputs": [
        {
          "output_type": "stream",
          "name": "stdout",
          "text": [
            "The most specific hypothesis is: ['Sunny', '?', '?']\n"
          ]
        }
      ],
      "source": [
        "import pandas as pd\n",
        "\n",
        "# Define the Find-S algorithm\n",
        "def find_s_algorithm(data):\n",
        "    # Initialize the hypothesis to the most specific one: all values are '?'\n",
        "    hypothesis = ['?' for _ in range(len(data.columns)-1)]\n",
        "\n",
        "    # Iterate over all rows in the dataset\n",
        "    for i in range(len(data)):\n",
        "        # If the label is positive (let's assume 'Yes' represents positive class)\n",
        "        if data.iloc[i, -1] == 'Yes':\n",
        "            # Generalize the hypothesis to match the current example\n",
        "            for j in range(len(hypothesis)):\n",
        "                # If the current hypothesis value is '?' or matches the current example's feature, keep it\n",
        "                if hypothesis[j] == '?' or hypothesis[j] == data.iloc[i, j]:\n",
        "                    hypothesis[j] = data.iloc[i, j]\n",
        "                # If the hypothesis value doesn't match, generalize it (i.e., use '?')\n",
        "                else:\n",
        "                    hypothesis[j] = '?'\n",
        "    return hypothesis\n",
        "\n",
        "# Sample training data (CSV format-like structure for illustration)\n",
        "data = pd.DataFrame({\n",
        "    'Feature1': ['Sunny', 'Sunny', 'Rainy', 'Sunny'],\n",
        "    'Feature2': ['Hot', 'Hot', 'Cold', 'Cold'],\n",
        "    'Feature3': ['High', 'High', 'Low', 'Low'],\n",
        "    'Label': ['Yes', 'Yes', 'No', 'Yes']\n",
        "})\n",
        "\n",
        "# Call the Find-S algorithm to find the most specific hypothesis\n",
        "hypothesis = find_s_algorithm(data)\n",
        "\n",
        "# Print the resulting hypothesis\n",
        "print(f\"The most specific hypothesis is: {hypothesis}\")\n"
      ]
    },
    {
      "cell_type": "code",
      "source": [
        "def find_s(examples):\n",
        "    # Initialize hypothesis to the most specific hypothesis\n",
        "    hypothesis =  ['ϕ', 'ϕ', 'ϕ', 'ϕ', 'ϕ', 'ϕ']\n",
        "\n",
        "    # For each positive example in the data\n",
        "    for example in examples:\n",
        "        if example[-1] == 'Yes':  # Positive example\n",
        "            for i in range(len(hypothesis)):\n",
        "                # Update hypothesis if attribute value is different\n",
        "                if hypothesis[i] == 'ϕ':\n",
        "                    hypothesis[i] = example[i]\n",
        "                elif hypothesis[i] != example[i]:\n",
        "                    hypothesis[i] = '?'\n",
        "\n",
        "    return hypothesis\n",
        "# Example usage:\n",
        "data = [\n",
        "    ['Sunny', 'Warm', 'Normal', 'Strong', 'Warm', 'Same', 'Yes'],\n",
        "    ['Sunny', 'Warm', 'High', 'Strong', 'Warm', 'Same', 'Yes'],\n",
        "    ['Rainy', 'Cold', 'High', 'Strong', 'Warm', 'Change', 'No'],\n",
        "    ['Sunny', 'Warm', 'High', 'Strong', 'Cool', 'Change', 'Yes']\n",
        "]\n",
        "hypothesis = find_s(data)\n",
        "print(\"Final hypothesis:\", hypothesis)\n"
      ],
      "metadata": {
        "id": "fU9i3fiPnGk9",
        "outputId": "a7591b23-00f2-4582-b80e-a360d29dddce",
        "colab": {
          "base_uri": "https://localhost:8080/"
        }
      },
      "execution_count": null,
      "outputs": [
        {
          "output_type": "stream",
          "name": "stdout",
          "text": [
            "Final hypothesis: ['Sunny', 'Warm', '?', 'Strong', '?', '?']\n"
          ]
        }
      ]
    }
  ]
}